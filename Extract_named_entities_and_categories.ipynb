{
 "cells": [
  {
   "cell_type": "code",
   "execution_count": 2,
   "metadata": {},
   "outputs": [],
   "source": [
    "import spacy\n",
    "import sys\n",
    "import matplotlib.pyplot as plt\n",
    "from collections import Counter\n",
    "\n",
    "\n",
    "def extract_categories(text, language):\n",
    "    \"\"\"Generates a text and returns the named entities and their categories.\n",
    "\n",
    "    Args:\n",
    "        text (str): The path of the textfile we want to find the named entities in.\n",
    "        language (str): The language of the text.\n",
    "\n",
    "    Returns:\n",
    "        A dict with named entities as keys and their categories as values \n",
    "        and a pie chart for a better visualisation.\n",
    "\n",
    "    Example:\n",
    "      >>> extract_categories(\"John_eats_an_apple.txt\", \"english\")\n",
    "      {'John': PERS}\n",
    "    \"\"\"\n",
    "    if language == \"russian\":\n",
    "        nlp = spacy.load(\"ru_core_news_sm\")\n",
    "        file_text = open(text, encoding=\"utf8\").read()\n",
    "        file_doc = nlp(file_text)\n",
    "    if language == \"english\":\n",
    "        nlp = spacy.load(\"en_core_web_sm\")\n",
    "        file_text = open(text, encoding=\"utf8\").read()\n",
    "        file_doc = nlp(file_text)\n",
    "    if language == \"german\":\n",
    "        nlp = spacy.load('de_core_news_sm')\n",
    "        file_text = open(text, encoding=\"utf8\").read()\n",
    "        file_doc = nlp(file_text)\n",
    "    categories = {}\n",
    "    for ent in file_doc.ents:\n",
    "        categories[ent] = ent.label_\n",
    "    frequency_of_labels = dict(Counter(categories.values()))\n",
    "    plt.pie(frequency_of_labels.values(), labels=frequency_of_labels.keys())\n",
    "    plt.show()\n",
    "    return categories\n"
   ]
  }
 ],
 "metadata": {
  "kernelspec": {
   "display_name": "Python 3",
   "language": "python",
   "name": "python3"
  },
  "language_info": {
   "codemirror_mode": {
    "name": "ipython",
    "version": 3
   },
   "file_extension": ".py",
   "mimetype": "text/x-python",
   "name": "python",
   "nbconvert_exporter": "python",
   "pygments_lexer": "ipython3",
   "version": "3.7.6"
  }
 },
 "nbformat": 4,
 "nbformat_minor": 4
}
